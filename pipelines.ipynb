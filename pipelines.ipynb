{
 "cells": [
  {
   "attachments": {},
   "cell_type": "markdown",
   "metadata": {},
   "source": [
    "# Preprocessing Pipelines:"
   ]
  },
  {
   "attachments": {},
   "cell_type": "markdown",
   "metadata": {},
   "source": [
    "## Preprocessing Numericals"
   ]
  },
  {
   "cell_type": "code",
   "execution_count": null,
   "metadata": {},
   "outputs": [],
   "source": [
    "preprocessing_pipeline_num = Pipeline([\n",
    "    ('imputer', SimpleImputer(strategy='constant', fill_value=0)),  # Replace missing values with 0\n",
    "    ('scaler', StandardScaler())  # Scale the features using standardization\n",
    "])"
   ]
  },
  {
   "cell_type": "code",
   "execution_count": null,
   "metadata": {},
   "outputs": [],
   "source": [
    "# put df_num through preprocessing_pipeline_num\n",
    "df_num_processed = preprocessing_pipeline_num.fit_transform(df_num)"
   ]
  },
  {
   "cell_type": "code",
   "execution_count": null,
   "metadata": {},
   "outputs": [
    {
     "data": {
      "text/plain": [
       "array([[ 0.25409834, -1.09426593, -0.23036555, ...,  1.18327123,\n",
       "         0.46773941,  1.19695084],\n",
       "       [ 0.25409834, -1.09426593, -0.23036555, ..., -0.32943142,\n",
       "         0.45882345, -0.06903189],\n",
       "       [ 0.25409834,  0.39233957, -0.23036555, ..., -0.32943142,\n",
       "         0.44863378, -0.06903189],\n",
       "       ...,\n",
       "       [-1.38371563,  0.0578967 , -0.23036555, ...,  1.18327123,\n",
       "         0.45500232,  1.19695084],\n",
       "       [-1.38371563,  0.0578967 , -0.23036555, ..., -0.32943142,\n",
       "         0.46009716, -0.06903189],\n",
       "       [-1.38371563,  0.0578967 , -0.23036555, ..., -0.32943142,\n",
       "         0.44226524, -1.33501463]])"
      ]
     },
     "metadata": {},
     "output_type": "display_data"
    }
   ],
   "source": [
    "df_num_processed"
   ]
  },
  {
   "cell_type": "code",
   "execution_count": null,
   "metadata": {},
   "outputs": [],
   "source": [
    "# turn df_num_processed back into a dataframe\n",
    "df_num_processed = pd.DataFrame(df_num_processed, columns=df_num.columns)"
   ]
  },
  {
   "cell_type": "code",
   "execution_count": null,
   "metadata": {},
   "outputs": [
    {
     "data": {
      "text/plain": [
       "POSTED_SPEED_LIMIT               0\n",
       "STREET_NO                        0\n",
       "NUM_UNITS                        0\n",
       "INJURIES_TOTAL                   0\n",
       "INJURIES_FATAL                   0\n",
       "INJURIES_INCAPACITATING          0\n",
       "INJURIES_NON_INCAPACITATING      0\n",
       "INJURIES_REPORTED_NOT_EVIDENT    0\n",
       "INJURIES_NO_INDICATION           0\n",
       "INJURIES_UNKNOWN                 0\n",
       "CRASH_HOUR                       0\n",
       "CRASH_DAY_OF_WEEK                0\n",
       "CRASH_MONTH                      0\n",
       "LATITUDE                         0\n",
       "LONGITUDE                        0\n",
       "CRASH_UNIT_ID                    0\n",
       "UNIT_NO                          0\n",
       "NUM_PASSENGERS                   0\n",
       "VEHICLE_YEAR                     0\n",
       "OCCUPANT_CNT                     0\n",
       "dtype: int64"
      ]
     },
     "metadata": {},
     "output_type": "display_data"
    }
   ],
   "source": [
    "# Check df_num_processed for nulls\n",
    "df_num_processed.isna().sum()"
   ]
  },
  {
   "attachments": {},
   "cell_type": "markdown",
   "metadata": {},
   "source": [
    "## Preprocessing Categoricals"
   ]
  },
  {
   "cell_type": "code",
   "execution_count": null,
   "metadata": {},
   "outputs": [
    {
     "ename": "NameError",
     "evalue": "name 'ordinal_cols' is not defined",
     "output_type": "error",
     "traceback": [
      "\u001b[1;31m---------------------------------------------------------------------------\u001b[0m\n",
      "\u001b[1;31mNameError\u001b[0m                                 Traceback (most recent call last)\n",
      "\u001b[1;32m<ipython-input-123-c7323f0dd42e>\u001b[0m in \u001b[0;36m<module>\u001b[1;34m\u001b[0m\n",
      "\u001b[0;32m     10\u001b[0m \u001b[1;31m# Combine the encoding steps using ColumnTransformer\u001b[0m\u001b[1;33m\u001b[0m\u001b[1;33m\u001b[0m\u001b[1;33m\u001b[0m\u001b[0m\n",
      "\u001b[0;32m     11\u001b[0m preprocessor = ColumnTransformer([\n",
      "\u001b[1;32m---> 12\u001b[1;33m     \u001b[1;33m(\u001b[0m\u001b[1;34m'ordinal_preprocessing'\u001b[0m\u001b[1;33m,\u001b[0m \u001b[0mordinal_transformer\u001b[0m\u001b[1;33m,\u001b[0m \u001b[0mordinal_cols\u001b[0m\u001b[1;33m)\u001b[0m\u001b[1;33m,\u001b[0m\u001b[1;33m\u001b[0m\u001b[1;33m\u001b[0m\u001b[0m\n",
      "\u001b[0m\u001b[0;32m     13\u001b[0m     \u001b[1;33m(\u001b[0m\u001b[1;34m'nominal_preprocessing'\u001b[0m\u001b[1;33m,\u001b[0m \u001b[0mnominal_transformer\u001b[0m\u001b[1;33m,\u001b[0m \u001b[0mnominal_cols\u001b[0m\u001b[1;33m)\u001b[0m\u001b[1;33m\u001b[0m\u001b[1;33m\u001b[0m\u001b[0m\n",
      "\u001b[0;32m     14\u001b[0m ])\n",
      "\n",
      "\u001b[1;31mNameError\u001b[0m: name 'ordinal_cols' is not defined"
     ]
    }
   ],
   "source": [
    "# Define the pipeline steps for encoding\n",
    "ordinal_transformer = Pipeline([\n",
    "    ('ordinal', OrdinalEncoder())\n",
    "])\n",
    "\n",
    "nominal_transformer = Pipeline([\n",
    "    ('onehot', OneHotEncoder(handle_unknown='ignore'))\n",
    "])\n",
    "\n",
    "# Combine the encoding steps using ColumnTransformer\n",
    "preprocessor = ColumnTransformer([\n",
    "    ('ordinal_preprocessing', ordinal_transformer, ordinal_cols),\n",
    "    ('nominal_preprocessing', nominal_transformer, nominal_cols)\n",
    "])"
   ]
  }
 ],
 "metadata": {
  "language_info": {
   "name": "python"
  },
  "orig_nbformat": 4
 },
 "nbformat": 4,
 "nbformat_minor": 2
}
