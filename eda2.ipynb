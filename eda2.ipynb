{
 "cells": [
  {
   "attachments": {},
   "cell_type": "markdown",
   "metadata": {},
   "source": [
    "# Data Sources\n",
    "\n",
    "Build and explain a model that predicts the primary cause of car accidents using a dataset from the City of Chicago. Aim for a Proof of Concept, focusing on model interpretability and iterating to find the best approach. Evaluation involves choosing the appropriate metric and implementing cross-validation for results.\n",
    "\n",
    "[crashes](https://data.cityofchicago.org/Transportation/Traffic-Crashes-Crashes/85ca-t3if)\n",
    "\n",
    "[vehicles](https://data.cityofchicago.org/Transportation/Traffic-Crashes-Vehicles/68nd-jvt3)\n",
    "\n",
    "[people](https://data.cityofchicago.org/Transportation/Traffic-Crashes-People/u6pd-qa9d)\n",
    "\n",
    "Don't forget about Tableau visualizations."
   ]
  },
  {
   "cell_type": "code",
   "execution_count": 40,
   "metadata": {},
   "outputs": [],
   "source": [
    "import pandas as pd\n",
    "from sklearn.pipeline import Pipeline\n",
    "from sklearn.impute import SimpleImputer\n",
    "from sklearn.preprocessing import StandardScaler"
   ]
  },
  {
   "cell_type": "code",
   "execution_count": 41,
   "metadata": {},
   "outputs": [
    {
     "name": "stderr",
     "output_type": "stream",
     "text": [
      "c:\\Anaconda3\\envs\\learn-env\\lib\\site-packages\\IPython\\core\\interactiveshell.py:3145: DtypeWarning: Columns (19,21,40,41,42,44,48,49,50,53,55,58,59,61,71) have mixed types.Specify dtype option on import or set low_memory=False.\n",
      "  has_raised = await self.run_ast_nodes(code_ast.body, cell_name,\n"
     ]
    }
   ],
   "source": [
    "d_crashes = pd.read_csv('data/Traffic_Crashes_-_Crashes.csv')\n",
    "d_vehicles = pd.read_csv('data/Traffic_Crashes_-_Vehicles.csv')"
   ]
  },
  {
   "cell_type": "code",
   "execution_count": 42,
   "metadata": {},
   "outputs": [],
   "source": [
    "d_crashes.isna().sum().to_csv('data/crashes_nulls.csv')"
   ]
  },
  {
   "cell_type": "code",
   "execution_count": 43,
   "metadata": {},
   "outputs": [
    {
     "data": {
      "text/plain": [
       "(732329, 49)"
      ]
     },
     "execution_count": 43,
     "metadata": {},
     "output_type": "execute_result"
    }
   ],
   "source": [
    "d_crashes.shape"
   ]
  },
  {
   "cell_type": "code",
   "execution_count": 44,
   "metadata": {},
   "outputs": [
    {
     "data": {
      "text/plain": [
       "CRASH_RECORD_ID                       0\n",
       "RD_NO                              4669\n",
       "CRASH_DATE_EST_I                 677005\n",
       "CRASH_DATE                            0\n",
       "POSTED_SPEED_LIMIT                    0\n",
       "TRAFFIC_CONTROL_DEVICE                0\n",
       "DEVICE_CONDITION                      0\n",
       "WEATHER_CONDITION                     0\n",
       "LIGHTING_CONDITION                    0\n",
       "FIRST_CRASH_TYPE                      0\n",
       "TRAFFICWAY_TYPE                       0\n",
       "LANE_CNT                         533326\n",
       "ALIGNMENT                             0\n",
       "ROADWAY_SURFACE_COND                  0\n",
       "ROAD_DEFECT                           0\n",
       "REPORT_TYPE                       20665\n",
       "CRASH_TYPE                            0\n",
       "INTERSECTION_RELATED_I           564347\n",
       "NOT_RIGHT_OF_WAY_I               698193\n",
       "HIT_AND_RUN_I                    504200\n",
       "DAMAGE                                0\n",
       "DATE_POLICE_NOTIFIED                  0\n",
       "PRIM_CONTRIBUTORY_CAUSE               0\n",
       "SEC_CONTRIBUTORY_CAUSE                0\n",
       "STREET_NO                             0\n",
       "STREET_DIRECTION                      4\n",
       "STREET_NAME                           1\n",
       "BEAT_OF_OCCURRENCE                    5\n",
       "PHOTOS_TAKEN_I                   723088\n",
       "STATEMENTS_TAKEN_I               716635\n",
       "DOORING_I                        730114\n",
       "WORK_ZONE_I                      728070\n",
       "WORK_ZONE_TYPE                   729002\n",
       "WORKERS_PRESENT_I                731230\n",
       "NUM_UNITS                             0\n",
       "MOST_SEVERE_INJURY                 1591\n",
       "INJURIES_TOTAL                     1580\n",
       "INJURIES_FATAL                     1580\n",
       "INJURIES_INCAPACITATING            1580\n",
       "INJURIES_NON_INCAPACITATING        1580\n",
       "INJURIES_REPORTED_NOT_EVIDENT      1580\n",
       "INJURIES_NO_INDICATION             1580\n",
       "INJURIES_UNKNOWN                   1580\n",
       "CRASH_HOUR                            0\n",
       "CRASH_DAY_OF_WEEK                     0\n",
       "CRASH_MONTH                           0\n",
       "LATITUDE                           4780\n",
       "LONGITUDE                          4780\n",
       "LOCATION                           4780\n",
       "dtype: int64"
      ]
     },
     "execution_count": 44,
     "metadata": {},
     "output_type": "execute_result"
    }
   ],
   "source": [
    "d_crashes.isna().sum()"
   ]
  },
  {
   "cell_type": "code",
   "execution_count": 45,
   "metadata": {},
   "outputs": [
    {
     "data": {
      "text/plain": [
       "(1491796, 72)"
      ]
     },
     "execution_count": 45,
     "metadata": {},
     "output_type": "execute_result"
    }
   ],
   "source": [
    "d_vehicles.shape"
   ]
  },
  {
   "cell_type": "code",
   "execution_count": 46,
   "metadata": {},
   "outputs": [
    {
     "data": {
      "text/plain": [
       "CRASH_UNIT_ID                    0\n",
       "CRASH_RECORD_ID                  0\n",
       "RD_NO                         9693\n",
       "CRASH_DATE                       0\n",
       "UNIT_NO                          0\n",
       "                            ...   \n",
       "CARGO_BODY_TYPE            1479527\n",
       "LOAD_TYPE                  1480065\n",
       "HAZMAT_OUT_OF_SERVICE_I    1481133\n",
       "MCS_OUT_OF_SERVICE_I       1480888\n",
       "HAZMAT_CLASS               1490765\n",
       "Length: 72, dtype: int64"
      ]
     },
     "execution_count": 46,
     "metadata": {},
     "output_type": "execute_result"
    }
   ],
   "source": [
    "d_vehicles.isna().sum()"
   ]
  },
  {
   "cell_type": "code",
   "execution_count": 47,
   "metadata": {},
   "outputs": [],
   "source": [
    "d_vehicles.isna().sum().to_csv('data/vehicles_nulls.csv')"
   ]
  },
  {
   "cell_type": "code",
   "execution_count": 48,
   "metadata": {},
   "outputs": [
    {
     "name": "stdout",
     "output_type": "stream",
     "text": [
      "2224125\n"
     ]
    }
   ],
   "source": [
    "# weeew lad\n",
    "print(d_crashes.shape[0] + d_vehicles.shape[0])"
   ]
  },
  {
   "cell_type": "code",
   "execution_count": 49,
   "metadata": {},
   "outputs": [
    {
     "name": "stdout",
     "output_type": "stream",
     "text": [
      "121\n"
     ]
    }
   ],
   "source": [
    "print(d_crashes.shape[1] + d_vehicles.shape[1])"
   ]
  },
  {
   "cell_type": "code",
   "execution_count": 50,
   "metadata": {},
   "outputs": [],
   "source": [
    "# Merge d_crashes and d_vehicles on CRASH_RECORD_ID\n",
    "df = pd.merge(d_crashes, d_vehicles, on='CRASH_RECORD_ID')"
   ]
  },
  {
   "cell_type": "code",
   "execution_count": 51,
   "metadata": {},
   "outputs": [
    {
     "data": {
      "text/plain": [
       "(1491794, 120)"
      ]
     },
     "execution_count": 51,
     "metadata": {},
     "output_type": "execute_result"
    }
   ],
   "source": [
    "df.shape"
   ]
  },
  {
   "cell_type": "code",
   "execution_count": 52,
   "metadata": {},
   "outputs": [],
   "source": [
    "df.isna().sum().to_csv('data/df_nulls.csv')"
   ]
  },
  {
   "cell_type": "code",
   "execution_count": 53,
   "metadata": {},
   "outputs": [],
   "source": [
    "'''\n",
    "drom from df \n",
    "CMV_ID\n",
    "USDOT_NO\n",
    "CCMC_NO\n",
    "ILCC_NO\n",
    "COMMERCIAL_SRC\n",
    "GVWR\n",
    "CARRIER_NAME\n",
    "CARRIER_STATE\n",
    "CARRIER_CITY\n",
    "HAZMAT_PLACARDS_I\n",
    "HAZMAT_NAME\n",
    "UN_NO\n",
    "HAZMAT_PRESENT_I\n",
    "HAZMAT_REPORT_I\n",
    "HAZMAT_REPORT_NO\n",
    "MCS_REPORT_I\n",
    "MCS_REPORT_NO\n",
    "HAZMAT_VIO_CAUSE_CRASH_I\n",
    "MCS_VIO_CAUSE_CRASH_I\n",
    "IDOT_PERMIT_NO\n",
    "WIDE_LOAD_I\n",
    "TRAILER1_WIDTH\n",
    "TRAILER2_WIDTH\n",
    "TRAILER1_LENGTH\n",
    "TRAILER2_LENGTH\n",
    "TOTAL_VEHICLE_LENGTH\n",
    "AXLE_CNT\n",
    "VEHICLE_CONFIG\n",
    "CARGO_BODY_TYPE\n",
    "LOAD_TYPE\n",
    "HAZMAT_OUT_OF_SERVICE_I\n",
    "MCS_OUT_OF_SERVICE_I\n",
    "HAZMAT_CLASS\n",
    "PHOTOS_TAKEN_I\n",
    "STATEMENTS_TAKEN_I\n",
    "DOORING_I\n",
    "WORK_ZONE_I\n",
    "WORK_ZONE_TYPE\n",
    "WORKERS_PRESENT_I\n",
    "TOWED_I\n",
    "FIRE_I\n",
    "TOWED_BY\n",
    "TOWED_TO\n",
    "AREA_00_I\n",
    "AREA_01_I\n",
    "AREA_02_I\n",
    "AREA_03_I\n",
    "AREA_04_I\n",
    "AREA_05_I\n",
    "AREA_06_I\n",
    "AREA_07_I\n",
    "AREA_08_I\n",
    "AREA_09_I\n",
    "AREA_10_I\n",
    "AREA_11_I\n",
    "AREA_12_I\n",
    "AREA_99_I\n",
    "'''\n",
    "\n",
    "df.drop(columns=['CMV_ID',\n",
    "                 'USDOT_NO',\n",
    "                 'CCMC_NO',\n",
    "                 'ILCC_NO',\n",
    "                 'COMMERCIAL_SRC',\n",
    "                 'GVWR',\n",
    "                 'CARRIER_NAME',\n",
    "                 'CARRIER_STATE',\n",
    "                 'CARRIER_CITY',\n",
    "                 'HAZMAT_PLACARDS_I',\n",
    "                 'HAZMAT_NAME',\n",
    "                 'UN_NO',\n",
    "                 'HAZMAT_PRESENT_I',\n",
    "                 'HAZMAT_REPORT_I',\n",
    "                 'HAZMAT_REPORT_NO',\n",
    "                 'MCS_REPORT_I',\n",
    "                 'MCS_REPORT_NO',\n",
    "                 'HAZMAT_VIO_CAUSE_CRASH_I',\n",
    "                 'MCS_VIO_CAUSE_CRASH_I',\n",
    "                 'IDOT_PERMIT_NO',\n",
    "                 'WIDE_LOAD_I',\n",
    "                 'TRAILER1_WIDTH',\n",
    "                 'TRAILER2_WIDTH',\n",
    "                 'TRAILER1_LENGTH',\n",
    "                 'TRAILER2_LENGTH',\n",
    "                 'TOTAL_VEHICLE_LENGTH',\n",
    "                 'AXLE_CNT',\n",
    "                 'VEHICLE_CONFIG',\n",
    "                 'CARGO_BODY_TYPE',\n",
    "                 'LOAD_TYPE',\n",
    "                 'HAZMAT_OUT_OF_SERVICE_I',\n",
    "                 'MCS_OUT_OF_SERVICE_I',\n",
    "                 'HAZMAT_CLASS',\n",
    "                 \n",
    "                 'PHOTOS_TAKEN_I',\n",
    "                 'STATEMENTS_TAKEN_I',\n",
    "                 'DOORING_I',\n",
    "                 'WORK_ZONE_I',\n",
    "                 'WORK_ZONE_TYPE',\n",
    "                 'WORKERS_PRESENT_I',\n",
    "                 \n",
    "                 'TOWED_I',\n",
    "                 'FIRE_I',\n",
    "                 \n",
    "                 'TOWED_BY',\n",
    "                 'TOWED_TO',\n",
    "                 'AREA_00_I',\n",
    "                 'AREA_01_I',\n",
    "                 'AREA_02_I',\n",
    "                 'AREA_03_I',\n",
    "                 'AREA_04_I',\n",
    "                 'AREA_05_I',\n",
    "                 'AREA_06_I',\n",
    "                 'AREA_07_I',\n",
    "                 'AREA_08_I',\n",
    "                 'AREA_09_I',\n",
    "                 'AREA_10_I',\n",
    "                 'AREA_11_I',\n",
    "                 'AREA_12_I',\n",
    "                 'AREA_99_I',\n",
    "                 \n",
    "                 'BEAT_OF_OCCURRENCE',\n",
    "                 'VEHICLE_ID',\n",
    "                 'LANE_CNT',\n",
    "                 ], inplace=True)"
   ]
  },
  {
   "cell_type": "code",
   "execution_count": 54,
   "metadata": {},
   "outputs": [
    {
     "data": {
      "text/plain": [
       "(1491794, 60)"
      ]
     },
     "execution_count": 54,
     "metadata": {},
     "output_type": "execute_result"
    }
   ],
   "source": [
    "df.shape"
   ]
  },
  {
   "attachments": {},
   "cell_type": "markdown",
   "metadata": {},
   "source": [
    "Okay so all the useless columns have been chopped. \n",
    "\n",
    "The ones that are left over need to be cleaned up.\n",
    "\n",
    "ugh"
   ]
  },
  {
   "cell_type": "code",
   "execution_count": 55,
   "metadata": {},
   "outputs": [],
   "source": [
    "# output df.head() to csv\n",
    "df.head().T.to_csv('data/df_head.csv')"
   ]
  },
  {
   "cell_type": "code",
   "execution_count": 56,
   "metadata": {},
   "outputs": [],
   "source": [
    "# split df into categorical and numerical dataframes\n",
    "df_cat = df.select_dtypes(include='object')\n",
    "df_num = df.select_dtypes(exclude='object')"
   ]
  },
  {
   "cell_type": "code",
   "execution_count": 57,
   "metadata": {},
   "outputs": [
    {
     "data": {
      "text/plain": [
       "CRASH_RECORD_ID                  0\n",
       "RD_NO_x                       8978\n",
       "CRASH_DATE_EST_I           1379456\n",
       "CRASH_DATE_x                     0\n",
       "TRAFFIC_CONTROL_DEVICE           0\n",
       "DEVICE_CONDITION                 0\n",
       "WEATHER_CONDITION                0\n",
       "LIGHTING_CONDITION               0\n",
       "FIRST_CRASH_TYPE                 0\n",
       "TRAFFICWAY_TYPE                  0\n",
       "ALIGNMENT                        0\n",
       "ROADWAY_SURFACE_COND             0\n",
       "ROAD_DEFECT                      0\n",
       "REPORT_TYPE                  47778\n",
       "CRASH_TYPE                       0\n",
       "INTERSECTION_RELATED_I     1144582\n",
       "NOT_RIGHT_OF_WAY_I         1430860\n",
       "HIT_AND_RUN_I              1017966\n",
       "DAMAGE                           0\n",
       "DATE_POLICE_NOTIFIED             0\n",
       "PRIM_CONTRIBUTORY_CAUSE          0\n",
       "SEC_CONTRIBUTORY_CAUSE           0\n",
       "STREET_DIRECTION                 8\n",
       "STREET_NAME                      2\n",
       "MOST_SEVERE_INJURY            2663\n",
       "LOCATION                      9373\n",
       "RD_NO_y                       9691\n",
       "CRASH_DATE_y                     0\n",
       "UNIT_TYPE                     2015\n",
       "CMRC_VEH_I                 1463930\n",
       "MAKE                         33612\n",
       "MODEL                        33756\n",
       "LIC_PLATE_STATE             166547\n",
       "VEHICLE_DEFECT               33607\n",
       "VEHICLE_TYPE                 33607\n",
       "VEHICLE_USE                  33607\n",
       "TRAVEL_DIRECTION             33607\n",
       "MANEUVER                     33607\n",
       "EXCEED_SPEED_LIMIT_I       1489397\n",
       "FIRST_CONTACT_POINT          36696\n",
       "dtype: int64"
      ]
     },
     "execution_count": 57,
     "metadata": {},
     "output_type": "execute_result"
    }
   ],
   "source": [
    "df_cat.isna().sum()"
   ]
  },
  {
   "cell_type": "code",
   "execution_count": 58,
   "metadata": {},
   "outputs": [
    {
     "data": {
      "text/plain": [
       "POSTED_SPEED_LIMIT                     0\n",
       "STREET_NO                              0\n",
       "NUM_UNITS                              0\n",
       "INJURIES_TOTAL                      2642\n",
       "INJURIES_FATAL                      2642\n",
       "INJURIES_INCAPACITATING             2642\n",
       "INJURIES_NON_INCAPACITATING         2642\n",
       "INJURIES_REPORTED_NOT_EVIDENT       2642\n",
       "INJURIES_NO_INDICATION              2642\n",
       "INJURIES_UNKNOWN                    2642\n",
       "CRASH_HOUR                             0\n",
       "CRASH_DAY_OF_WEEK                      0\n",
       "CRASH_MONTH                            0\n",
       "LATITUDE                            9373\n",
       "LONGITUDE                           9373\n",
       "CRASH_UNIT_ID                          0\n",
       "UNIT_NO                                0\n",
       "NUM_PASSENGERS                   1270885\n",
       "VEHICLE_YEAR                      269637\n",
       "OCCUPANT_CNT                       33607\n",
       "dtype: int64"
      ]
     },
     "execution_count": 58,
     "metadata": {},
     "output_type": "execute_result"
    }
   ],
   "source": [
    "df_num.isna().sum()"
   ]
  },
  {
   "attachments": {},
   "cell_type": "markdown",
   "metadata": {},
   "source": [
    "# Pipelines:"
   ]
  },
  {
   "cell_type": "code",
   "execution_count": null,
   "metadata": {},
   "outputs": [],
   "source": [
    "preprocessing_pipeline = Pipeline([\n",
    "    ('imputer', SimpleImputer(strategy='constant', fill_value=0)),  # Replace missing values with 0\n",
    "    ('scaler', StandardScaler())  # Scale the features using standardization\n",
    "])"
   ]
  }
 ],
 "metadata": {
  "kernelspec": {
   "display_name": "learn-env",
   "language": "python",
   "name": "python3"
  },
  "language_info": {
   "codemirror_mode": {
    "name": "ipython",
    "version": 3
   },
   "file_extension": ".py",
   "mimetype": "text/x-python",
   "name": "python",
   "nbconvert_exporter": "python",
   "pygments_lexer": "ipython3",
   "version": "3.8.5"
  },
  "orig_nbformat": 4
 },
 "nbformat": 4,
 "nbformat_minor": 2
}
